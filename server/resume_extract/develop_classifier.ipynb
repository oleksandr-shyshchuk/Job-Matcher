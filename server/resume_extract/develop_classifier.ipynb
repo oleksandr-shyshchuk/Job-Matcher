{
 "cells": [
  {
   "cell_type": "code",
   "execution_count": 1,
   "id": "initial_id",
   "metadata": {
    "collapsed": true,
    "ExecuteTime": {
     "end_time": "2024-04-02T16:42:31.590764Z",
     "start_time": "2024-04-02T16:42:30.259485Z"
    }
   },
   "outputs": [],
   "source": [
    "import re\n",
    "import PyPDF2\n",
    "import spacy\n",
    "from spacy.matcher import Matcher"
   ]
  },
  {
   "cell_type": "code",
   "outputs": [],
   "source": [
    "text = ''\n",
    "\n",
    "with open('Untitled-resume.pdf', 'rb') as file:\n",
    "    pdf_reader = PyPDF2.PdfReader(file)\n",
    "\n",
    "    num_pages = len(pdf_reader.pages)\n",
    "\n",
    "    for page_number in range(num_pages):\n",
    "        page = pdf_reader.pages[page_number]\n",
    "        \n",
    "        cur_text = page.extract_text()\n",
    "\n",
    "        text += cur_text"
   ],
   "metadata": {
    "collapsed": false,
    "ExecuteTime": {
     "end_time": "2024-04-02T16:42:31.623296Z",
     "start_time": "2024-04-02T16:42:31.591770Z"
    }
   },
   "id": "23fef83ea18f4fec",
   "execution_count": 2
  },
  {
   "cell_type": "code",
   "outputs": [
    {
     "name": "stdout",
     "output_type": "stream",
     "text": [
      "SanketSarwade\n",
      "Data Scientist\n",
      "As a highly motivated and detail-oriented data scientist, I am eager to begin my career in the \u0000eld of data science. With a solid\n",
      "foundation in statistics, programming, and machine learning techniques, I am well-equipped to tackle complex data problems\n",
      "and deliver meaningful insights. Through my academic and personal projects, I have honed my skills in data analysis,\n",
      "visualization, and modeling. I am pro\u0000cient in using tools such as Python, SQL, and Tableau, and have experience working with\n",
      "various data sources such as CSV, Excel, and JSON. Additionally, I possess excellent communication skills and a passion for\n",
      "learning, which makes me a valuable team player and a quick learner. I am excited to leverage my skills and knowledge to make a\n",
      "meaningful impact in the \u0000eld of data science.\n",
      "Email:sanketsarwade111@gmail.com\n",
      "Address:New Cidco, Nashik\n",
      "Phone:7798248452\n",
      "Date of birth:Jul 15, 2001\n",
      "Nationality:Indian\n",
      "Link:https://github.com/sanketsarwade\n",
      "Data Science Project Experience\n",
      "Though I don't have any real-life job experience, I have gained valuable hands-on\n",
      "experience in data science through various projects using Kaggle datasets and other\n",
      "platforms. I have worked on a variety of projects related to data cleaning, exploratory data\n",
      "analysis, machine learning, and data visualization.\n",
      "Data Science Project\n",
      "These projects have allowed me to gain pro\u0000ciency in programming languages such as\n",
      "Python, as well as in tools like SQL and Tableau. Through these projects, I have honed my\n",
      "problem-solving and analytical skills, as well as my ability to work collaboratively in a team\n",
      "environment. I am excited to bring my passion and experience to a real-world data science\n",
      "role.Experience\n",
      "PuneJun 2019 - Sep 2022 Bsc Microbiology\n",
      "Sinhgad College of Science\n",
      "PuneOct 2022 - Jan 2023 Data Scientist\n",
      "Data CampEducation\n",
      "English\n",
      "Advanced\n",
      "Narathi\n",
      "Native\n",
      "Hindi\n",
      "NativeLanguages Skills\n",
      "Python SQL Machine Learning Deep Learning\n",
      "Tableau Data Visualization Data Management Leadership\n",
      "Handling Pressure Collaboration\n",
      "Projects\n",
      "Human Activity Recogination •\n",
      "Email Spam •\n",
      "Breast Cancer Prediction •\n",
      "Anomaly Detection •\n",
      "IPL prediction •\n",
      "Certi\u0000cations & Courses\n",
      "Python •\n",
      "Machine Leaning •\n",
      "Deep Leaning •\n",
      "SQl •\n",
      "Data Science •\n",
      "Tableau •\n"
     ]
    }
   ],
   "source": [
    "print(text)"
   ],
   "metadata": {
    "collapsed": false,
    "ExecuteTime": {
     "end_time": "2024-04-02T16:42:31.626112Z",
     "start_time": "2024-04-02T16:42:31.624240Z"
    }
   },
   "id": "756a03a01ce2240e",
   "execution_count": 3
  },
  {
   "cell_type": "code",
   "outputs": [],
   "source": [
    "def cleanResume(resumeText):\n",
    "    resumeText = re.sub('http\\S+\\s*', ' ', resumeText)  # remove URLs\n",
    "    resumeText = re.sub('RT|cc', ' ', resumeText)  # remove RT and cc\n",
    "    resumeText = re.sub('#\\S+', '', resumeText)  # remove hashtags\n",
    "    resumeText = re.sub('@\\S+', '  ', resumeText)  # remove mentions\n",
    "    resumeText = re.sub('[%s]' % re.escape(\"\"\"!\"#$%&'()*+,-./:;<=>?@[\\]^_`{|}~\"\"\"), ' ', resumeText)  # remove punctuations\n",
    "    resumeText = re.sub(r'[^\\x00-\\x7f]',r' ', resumeText) \n",
    "    resumeText = re.sub('\\s+', ' ', resumeText)  # remove extra whitespace\n",
    "    return resumeText"
   ],
   "metadata": {
    "collapsed": false,
    "ExecuteTime": {
     "end_time": "2024-04-02T16:42:31.629470Z",
     "start_time": "2024-04-02T16:42:31.626847Z"
    }
   },
   "id": "e88359869774ccd",
   "execution_count": 4
  },
  {
   "cell_type": "code",
   "outputs": [],
   "source": [
    "import nltk\n",
    "from nltk.corpus import stopwords\n",
    "import string"
   ],
   "metadata": {
    "collapsed": false,
    "ExecuteTime": {
     "end_time": "2024-04-02T16:42:32.306641Z",
     "start_time": "2024-04-02T16:42:31.631263Z"
    }
   },
   "id": "3f255eff87cd9063",
   "execution_count": 5
  },
  {
   "cell_type": "code",
   "outputs": [],
   "source": [
    "from sklearn.model_selection import train_test_split\n",
    "from sklearn.feature_extraction.text import TfidfVectorizer\n",
    "from scipy.sparse import hstack\n",
    "import joblib"
   ],
   "metadata": {
    "collapsed": false,
    "ExecuteTime": {
     "end_time": "2024-04-02T16:42:32.309613Z",
     "start_time": "2024-04-02T16:42:32.307527Z"
    }
   },
   "id": "73b6f8ece4875cb3",
   "execution_count": 6
  },
  {
   "cell_type": "code",
   "outputs": [],
   "source": [
    "cleanedText = cleanResume(text)\n",
    "\n",
    "word_vectorizer = joblib.load('vectorizer.pkl')\n",
    "\n",
    "WordFeatures = word_vectorizer.transform([cleanedText])"
   ],
   "metadata": {
    "collapsed": false,
    "ExecuteTime": {
     "end_time": "2024-04-02T16:42:32.324205Z",
     "start_time": "2024-04-02T16:42:32.310468Z"
    }
   },
   "id": "e4e1473ff8cff9e1",
   "execution_count": 7
  },
  {
   "cell_type": "code",
   "outputs": [],
   "source": [
    "knn = joblib.load('model.pkl')"
   ],
   "metadata": {
    "collapsed": false,
    "ExecuteTime": {
     "end_time": "2024-04-02T16:42:32.375725Z",
     "start_time": "2024-04-02T16:42:32.324997Z"
    }
   },
   "id": "e82918df4421aad6",
   "execution_count": 8
  },
  {
   "cell_type": "code",
   "outputs": [],
   "source": [
    "decoder = {\n",
    "     0: 'Advocate',\n",
    "     1: 'Arts',\n",
    "     2: 'Automation Testing',\n",
    "     3: 'Blockchain',\n",
    "     4: 'Business Analyst',\n",
    "     5: 'Civil Engineer',\n",
    "     6: 'Data Science',\n",
    "     7: 'Database',\n",
    "     8: 'DevOps Engineer',\n",
    "     9: 'DotNet Developer',\n",
    "     10: 'ETL Developer',\n",
    "     11: 'Electrical Engineering',\n",
    "     12: 'HR',\n",
    "     13: 'Hadoop',\n",
    "     14: 'Health and fitness',\n",
    "     15: 'Java Developer',\n",
    "     16: 'Mechanical Engineer',\n",
    "     17: 'Network Security Engineer',\n",
    "     18: 'Operations Manager',\n",
    "     19: 'PMO',\n",
    "     20: 'Python Developer',\n",
    "     21: 'SAP Developer',\n",
    "     22: 'Sales',\n",
    "     23: 'Testing',\n",
    "     24: 'Web Designing'\n",
    "}"
   ],
   "metadata": {
    "collapsed": false,
    "ExecuteTime": {
     "end_time": "2024-04-02T16:42:32.379990Z",
     "start_time": "2024-04-02T16:42:32.376694Z"
    }
   },
   "id": "5c3a30cdf47ade55",
   "execution_count": 9
  },
  {
   "cell_type": "code",
   "outputs": [
    {
     "data": {
      "text/plain": "'Data Science'"
     },
     "execution_count": 10,
     "metadata": {},
     "output_type": "execute_result"
    }
   ],
   "source": [
    "decoder[knn.predict(WordFeatures)[0]]"
   ],
   "metadata": {
    "collapsed": false,
    "ExecuteTime": {
     "end_time": "2024-04-02T16:42:32.408395Z",
     "start_time": "2024-04-02T16:42:32.381161Z"
    }
   },
   "id": "5e04bb43099a58f3",
   "execution_count": 10
  },
  {
   "cell_type": "code",
   "outputs": [
    {
     "data": {
      "text/plain": "(1, 7351)"
     },
     "execution_count": 11,
     "metadata": {},
     "output_type": "execute_result"
    }
   ],
   "source": [
    "WordFeatures.shape"
   ],
   "metadata": {
    "collapsed": false,
    "ExecuteTime": {
     "end_time": "2024-04-02T16:42:32.411336Z",
     "start_time": "2024-04-02T16:42:32.409163Z"
    }
   },
   "id": "cb673898836ec135",
   "execution_count": 11
  },
  {
   "cell_type": "code",
   "outputs": [],
   "source": [],
   "metadata": {
    "collapsed": false,
    "ExecuteTime": {
     "end_time": "2024-04-02T16:42:32.413849Z",
     "start_time": "2024-04-02T16:42:32.412494Z"
    }
   },
   "id": "cdac28b8e40fadd1",
   "execution_count": 11
  }
 ],
 "metadata": {
  "kernelspec": {
   "display_name": "Python 3",
   "language": "python",
   "name": "python3"
  },
  "language_info": {
   "codemirror_mode": {
    "name": "ipython",
    "version": 2
   },
   "file_extension": ".py",
   "mimetype": "text/x-python",
   "name": "python",
   "nbconvert_exporter": "python",
   "pygments_lexer": "ipython2",
   "version": "2.7.6"
  }
 },
 "nbformat": 4,
 "nbformat_minor": 5
}
